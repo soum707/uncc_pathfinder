{
 "cells": [
  {
   "cell_type": "code",
   "execution_count": 4,
   "id": "5652b20e",
   "metadata": {},
   "outputs": [],
   "source": [
    "from selenium import webdriver\n",
    "from selenium.webdriver.chrome.service import Service\n",
    "from selenium.webdriver.common.by import By\n",
    "from webdriver_manager.chrome import ChromeDriverManager\n",
    "import time\n",
    "\n",
    "# Set up Selenium driver\n",
    "driver = webdriver.Chrome(service=Service(ChromeDriverManager().install()))\n",
    "driver.get(\"https://datascience.charlotte.edu/academics/syllabi/\")\n",
    "time.sleep(5)  # wait for JavaScript to load everything\n",
    "\n",
    "# Get all links on the page\n",
    "syllabi_links = driver.find_elements(By.CSS_SELECTOR, \"a[href*='DTSC']\")\n",
    "syllabi_data = [(link.text, link.get_attribute('href')) for link in syllabi_links]\n",
    "\n",
    "# Print or save\n",
    "for title, href in syllabi_data:\n",
    "    print(f\"{title} -> {href}\")\n",
    "\n",
    "driver.quit()\n"
   ]
  }
 ],
 "metadata": {
  "kernelspec": {
   "display_name": "base",
   "language": "python",
   "name": "python3"
  },
  "language_info": {
   "codemirror_mode": {
    "name": "ipython",
    "version": 3
   },
   "file_extension": ".py",
   "mimetype": "text/x-python",
   "name": "python",
   "nbconvert_exporter": "python",
   "pygments_lexer": "ipython3",
   "version": "3.12.2"
  }
 },
 "nbformat": 4,
 "nbformat_minor": 5
}
